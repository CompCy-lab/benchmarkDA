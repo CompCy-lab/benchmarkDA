{
 "cells": [
  {
   "cell_type": "code",
   "execution_count": 1,
   "metadata": {
    "Collapsed": "false"
   },
   "outputs": [],
   "source": [
    "%%capture --no-stdout\n",
    "import sys\n",
    "sys.path.append(\"../src/\")\n",
    "\n",
    "import numpy as np\n",
    "import matplotlib.pyplot as plt\n",
    "import pandas as pd\n",
    "import scanpy as sc\n",
    "import cna\n",
    "np.random.seed(0)"
   ]
  },
  {
   "cell_type": "markdown",
   "metadata": {
    "Collapsed": "false"
   },
   "source": [
    "# covarying neighborhood analysis tutorial"
   ]
  },
  {
   "cell_type": "markdown",
   "metadata": {
    "Collapsed": "false"
   },
   "source": [
    "This notebook demonstrates the basic use of the `cna` python package. Before you run it, make sure you either install `cna` by running `pip install cna` or by cloning the `cna` github repo and adding it to your python path. (In the latter case you'll likely need to manually install the `multianndata` package, which is a dependency of `cna`.)"
   ]
  },
  {
   "cell_type": "markdown",
   "metadata": {
    "Collapsed": "false"
   },
   "source": [
    "## table of contents:\n",
    "1. [minimal working example](#first-section)\n",
    "1. [processing data into the correct format](#second-section)\n",
    "1. Additional CNA features: [additional results produced by cna's association function](#third-section)\n",
    "1. Additional CNA features: [working directly with the NAM and NAM PCs](#fourth-section)"
   ]
  },
  {
   "cell_type": "markdown",
   "metadata": {
    "Collapsed": "false"
   },
   "source": [
    "## 1. minimal working example <a class=\"anchor\" id=\"first-section\"></a>"
   ]
  },
  {
   "cell_type": "markdown",
   "metadata": {
    "Collapsed": "false"
   },
   "source": [
    "Let's run `cna` and visualize results for a toy dataset in the commonly used `AnnData` format that already has a UMAP nearest-neighbor graph. You can learn more about data pre-processing and formatting in Section 2."
   ]
  },
  {
   "cell_type": "markdown",
   "metadata": {
    "Collapsed": "false"
   },
   "source": [
    "### 1.1 read in data"
   ]
  },
  {
   "cell_type": "markdown",
   "metadata": {
    "Collapsed": "false"
   },
   "source": [
    "First, we'll read in the dataset and convert it to the format required for `cna`. This involves placing sample-level metadata in a dedicated pandas dataframe. (See Section 2 for more info)"
   ]
  },
  {
   "cell_type": "code",
   "execution_count": 2,
   "metadata": {
    "Collapsed": "false"
   },
   "outputs": [
    {
     "name": "stderr",
     "output_type": "stream",
     "text": [
      "/usr/local/anaconda3/envs/cna/lib/python3.8/site-packages/anndata/compat/__init__.py:232: FutureWarning: Moving element from .uns['neighbors']['distances'] to .obsp['distances'].\n",
      "\n",
      "This is where adjacency matrices should go now.\n",
      "  warn(\n",
      "/usr/local/anaconda3/envs/cna/lib/python3.8/site-packages/anndata/compat/__init__.py:232: FutureWarning: Moving element from .uns['neighbors']['connectivities'] to .obsp['connectivities'].\n",
      "\n",
      "This is where adjacency matrices should go now.\n",
      "  warn(\n"
     ]
    }
   ],
   "source": [
    "# read in data\n",
    "# NB: if data are already in MultiAnnData format (see section 2), they can be read via `cna.read`\n",
    "#.    for example, try out: d = cna.read('data_multianndata.h5ad') instead of runnign this code block\n",
    "\n",
    "import anndata as ad\n",
    "d = ad.read_h5ad('data_anndata.h5ad')\n",
    "\n",
    "from multianndata import MultiAnnData\n",
    "d = MultiAnnData(d)\n",
    "d.obs_to_sample(['case','male','batch'])"
   ]
  },
  {
   "cell_type": "code",
   "execution_count": 6,
   "metadata": {},
   "outputs": [
    {
     "data": {
      "text/plain": [
       "Index(['cell_0', 'cell_1', 'cell_2', 'cell_3', 'cell_4', 'cell_5', 'cell_6',\n",
       "       'cell_7', 'cell_8', 'cell_9',\n",
       "       ...\n",
       "       'cell_9990', 'cell_9991', 'cell_9992', 'cell_9993', 'cell_9994',\n",
       "       'cell_9995', 'cell_9996', 'cell_9997', 'cell_9998', 'cell_9999'],\n",
       "      dtype='object', name='cell', length=10000)"
      ]
     },
     "execution_count": 6,
     "metadata": {},
     "output_type": "execute_result"
    }
   ],
   "source": [
    "d.obs.index"
   ]
  },
  {
   "cell_type": "code",
   "execution_count": 7,
   "metadata": {},
   "outputs": [
    {
     "data": {
      "text/plain": [
       "AnnData object with n_obs × n_vars = 10000 × 50\n",
       "    obs: 'id', 'case', 'male', 'batch'\n",
       "    uns: 'neighbors', 'sampleXmeta'\n",
       "    obsm: 'X_umap'\n",
       "    obsp: 'distances', 'connectivities'"
      ]
     },
     "execution_count": 7,
     "metadata": {},
     "output_type": "execute_result"
    }
   ],
   "source": [
    "d"
   ]
  },
  {
   "cell_type": "code",
   "execution_count": 3,
   "metadata": {},
   "outputs": [
    {
     "data": {
      "text/html": [
       "<div>\n",
       "<style scoped>\n",
       "    .dataframe tbody tr th:only-of-type {\n",
       "        vertical-align: middle;\n",
       "    }\n",
       "\n",
       "    .dataframe tbody tr th {\n",
       "        vertical-align: top;\n",
       "    }\n",
       "\n",
       "    .dataframe thead th {\n",
       "        text-align: right;\n",
       "    }\n",
       "</style>\n",
       "<table border=\"1\" class=\"dataframe\">\n",
       "  <thead>\n",
       "    <tr style=\"text-align: right;\">\n",
       "      <th></th>\n",
       "      <th>case</th>\n",
       "      <th>male</th>\n",
       "      <th>batch</th>\n",
       "    </tr>\n",
       "    <tr>\n",
       "      <th>id</th>\n",
       "      <th></th>\n",
       "      <th></th>\n",
       "      <th></th>\n",
       "    </tr>\n",
       "  </thead>\n",
       "  <tbody>\n",
       "    <tr>\n",
       "      <th>0</th>\n",
       "      <td>0.0</td>\n",
       "      <td>0.0</td>\n",
       "      <td>0.0</td>\n",
       "    </tr>\n",
       "    <tr>\n",
       "      <th>1</th>\n",
       "      <td>0.0</td>\n",
       "      <td>0.0</td>\n",
       "      <td>1.0</td>\n",
       "    </tr>\n",
       "    <tr>\n",
       "      <th>2</th>\n",
       "      <td>0.0</td>\n",
       "      <td>0.0</td>\n",
       "      <td>2.0</td>\n",
       "    </tr>\n",
       "    <tr>\n",
       "      <th>3</th>\n",
       "      <td>0.0</td>\n",
       "      <td>0.0</td>\n",
       "      <td>3.0</td>\n",
       "    </tr>\n",
       "    <tr>\n",
       "      <th>4</th>\n",
       "      <td>0.0</td>\n",
       "      <td>0.0</td>\n",
       "      <td>4.0</td>\n",
       "    </tr>\n",
       "    <tr>\n",
       "      <th>5</th>\n",
       "      <td>0.0</td>\n",
       "      <td>0.0</td>\n",
       "      <td>0.0</td>\n",
       "    </tr>\n",
       "    <tr>\n",
       "      <th>6</th>\n",
       "      <td>0.0</td>\n",
       "      <td>0.0</td>\n",
       "      <td>1.0</td>\n",
       "    </tr>\n",
       "    <tr>\n",
       "      <th>7</th>\n",
       "      <td>0.0</td>\n",
       "      <td>0.0</td>\n",
       "      <td>2.0</td>\n",
       "    </tr>\n",
       "    <tr>\n",
       "      <th>8</th>\n",
       "      <td>0.0</td>\n",
       "      <td>0.0</td>\n",
       "      <td>3.0</td>\n",
       "    </tr>\n",
       "    <tr>\n",
       "      <th>9</th>\n",
       "      <td>0.0</td>\n",
       "      <td>0.0</td>\n",
       "      <td>4.0</td>\n",
       "    </tr>\n",
       "    <tr>\n",
       "      <th>10</th>\n",
       "      <td>0.0</td>\n",
       "      <td>0.0</td>\n",
       "      <td>0.0</td>\n",
       "    </tr>\n",
       "    <tr>\n",
       "      <th>11</th>\n",
       "      <td>0.0</td>\n",
       "      <td>0.0</td>\n",
       "      <td>1.0</td>\n",
       "    </tr>\n",
       "    <tr>\n",
       "      <th>12</th>\n",
       "      <td>0.0</td>\n",
       "      <td>1.0</td>\n",
       "      <td>2.0</td>\n",
       "    </tr>\n",
       "    <tr>\n",
       "      <th>13</th>\n",
       "      <td>0.0</td>\n",
       "      <td>1.0</td>\n",
       "      <td>3.0</td>\n",
       "    </tr>\n",
       "    <tr>\n",
       "      <th>14</th>\n",
       "      <td>0.0</td>\n",
       "      <td>1.0</td>\n",
       "      <td>4.0</td>\n",
       "    </tr>\n",
       "    <tr>\n",
       "      <th>15</th>\n",
       "      <td>0.0</td>\n",
       "      <td>1.0</td>\n",
       "      <td>0.0</td>\n",
       "    </tr>\n",
       "    <tr>\n",
       "      <th>16</th>\n",
       "      <td>0.0</td>\n",
       "      <td>1.0</td>\n",
       "      <td>1.0</td>\n",
       "    </tr>\n",
       "    <tr>\n",
       "      <th>17</th>\n",
       "      <td>0.0</td>\n",
       "      <td>1.0</td>\n",
       "      <td>2.0</td>\n",
       "    </tr>\n",
       "    <tr>\n",
       "      <th>18</th>\n",
       "      <td>0.0</td>\n",
       "      <td>1.0</td>\n",
       "      <td>3.0</td>\n",
       "    </tr>\n",
       "    <tr>\n",
       "      <th>19</th>\n",
       "      <td>0.0</td>\n",
       "      <td>1.0</td>\n",
       "      <td>4.0</td>\n",
       "    </tr>\n",
       "    <tr>\n",
       "      <th>20</th>\n",
       "      <td>0.0</td>\n",
       "      <td>1.0</td>\n",
       "      <td>0.0</td>\n",
       "    </tr>\n",
       "    <tr>\n",
       "      <th>21</th>\n",
       "      <td>0.0</td>\n",
       "      <td>1.0</td>\n",
       "      <td>1.0</td>\n",
       "    </tr>\n",
       "    <tr>\n",
       "      <th>22</th>\n",
       "      <td>0.0</td>\n",
       "      <td>1.0</td>\n",
       "      <td>2.0</td>\n",
       "    </tr>\n",
       "    <tr>\n",
       "      <th>23</th>\n",
       "      <td>0.0</td>\n",
       "      <td>1.0</td>\n",
       "      <td>3.0</td>\n",
       "    </tr>\n",
       "    <tr>\n",
       "      <th>24</th>\n",
       "      <td>0.0</td>\n",
       "      <td>0.0</td>\n",
       "      <td>4.0</td>\n",
       "    </tr>\n",
       "    <tr>\n",
       "      <th>25</th>\n",
       "      <td>1.0</td>\n",
       "      <td>0.0</td>\n",
       "      <td>0.0</td>\n",
       "    </tr>\n",
       "    <tr>\n",
       "      <th>26</th>\n",
       "      <td>1.0</td>\n",
       "      <td>0.0</td>\n",
       "      <td>1.0</td>\n",
       "    </tr>\n",
       "    <tr>\n",
       "      <th>27</th>\n",
       "      <td>1.0</td>\n",
       "      <td>0.0</td>\n",
       "      <td>2.0</td>\n",
       "    </tr>\n",
       "    <tr>\n",
       "      <th>28</th>\n",
       "      <td>1.0</td>\n",
       "      <td>0.0</td>\n",
       "      <td>3.0</td>\n",
       "    </tr>\n",
       "    <tr>\n",
       "      <th>29</th>\n",
       "      <td>1.0</td>\n",
       "      <td>0.0</td>\n",
       "      <td>4.0</td>\n",
       "    </tr>\n",
       "    <tr>\n",
       "      <th>30</th>\n",
       "      <td>1.0</td>\n",
       "      <td>0.0</td>\n",
       "      <td>0.0</td>\n",
       "    </tr>\n",
       "    <tr>\n",
       "      <th>31</th>\n",
       "      <td>1.0</td>\n",
       "      <td>0.0</td>\n",
       "      <td>1.0</td>\n",
       "    </tr>\n",
       "    <tr>\n",
       "      <th>32</th>\n",
       "      <td>1.0</td>\n",
       "      <td>0.0</td>\n",
       "      <td>2.0</td>\n",
       "    </tr>\n",
       "    <tr>\n",
       "      <th>33</th>\n",
       "      <td>1.0</td>\n",
       "      <td>0.0</td>\n",
       "      <td>3.0</td>\n",
       "    </tr>\n",
       "    <tr>\n",
       "      <th>34</th>\n",
       "      <td>1.0</td>\n",
       "      <td>0.0</td>\n",
       "      <td>4.0</td>\n",
       "    </tr>\n",
       "    <tr>\n",
       "      <th>35</th>\n",
       "      <td>1.0</td>\n",
       "      <td>0.0</td>\n",
       "      <td>0.0</td>\n",
       "    </tr>\n",
       "    <tr>\n",
       "      <th>36</th>\n",
       "      <td>1.0</td>\n",
       "      <td>1.0</td>\n",
       "      <td>1.0</td>\n",
       "    </tr>\n",
       "    <tr>\n",
       "      <th>37</th>\n",
       "      <td>1.0</td>\n",
       "      <td>1.0</td>\n",
       "      <td>2.0</td>\n",
       "    </tr>\n",
       "    <tr>\n",
       "      <th>38</th>\n",
       "      <td>1.0</td>\n",
       "      <td>1.0</td>\n",
       "      <td>3.0</td>\n",
       "    </tr>\n",
       "    <tr>\n",
       "      <th>39</th>\n",
       "      <td>1.0</td>\n",
       "      <td>1.0</td>\n",
       "      <td>4.0</td>\n",
       "    </tr>\n",
       "    <tr>\n",
       "      <th>40</th>\n",
       "      <td>1.0</td>\n",
       "      <td>1.0</td>\n",
       "      <td>0.0</td>\n",
       "    </tr>\n",
       "    <tr>\n",
       "      <th>41</th>\n",
       "      <td>1.0</td>\n",
       "      <td>1.0</td>\n",
       "      <td>1.0</td>\n",
       "    </tr>\n",
       "    <tr>\n",
       "      <th>42</th>\n",
       "      <td>1.0</td>\n",
       "      <td>1.0</td>\n",
       "      <td>2.0</td>\n",
       "    </tr>\n",
       "    <tr>\n",
       "      <th>43</th>\n",
       "      <td>1.0</td>\n",
       "      <td>1.0</td>\n",
       "      <td>3.0</td>\n",
       "    </tr>\n",
       "    <tr>\n",
       "      <th>44</th>\n",
       "      <td>1.0</td>\n",
       "      <td>1.0</td>\n",
       "      <td>4.0</td>\n",
       "    </tr>\n",
       "    <tr>\n",
       "      <th>45</th>\n",
       "      <td>1.0</td>\n",
       "      <td>1.0</td>\n",
       "      <td>0.0</td>\n",
       "    </tr>\n",
       "    <tr>\n",
       "      <th>46</th>\n",
       "      <td>1.0</td>\n",
       "      <td>1.0</td>\n",
       "      <td>1.0</td>\n",
       "    </tr>\n",
       "    <tr>\n",
       "      <th>47</th>\n",
       "      <td>1.0</td>\n",
       "      <td>1.0</td>\n",
       "      <td>2.0</td>\n",
       "    </tr>\n",
       "    <tr>\n",
       "      <th>48</th>\n",
       "      <td>1.0</td>\n",
       "      <td>1.0</td>\n",
       "      <td>3.0</td>\n",
       "    </tr>\n",
       "    <tr>\n",
       "      <th>49</th>\n",
       "      <td>1.0</td>\n",
       "      <td>1.0</td>\n",
       "      <td>4.0</td>\n",
       "    </tr>\n",
       "  </tbody>\n",
       "</table>\n",
       "</div>"
      ],
      "text/plain": [
       "    case  male  batch\n",
       "id                   \n",
       "0    0.0   0.0    0.0\n",
       "1    0.0   0.0    1.0\n",
       "2    0.0   0.0    2.0\n",
       "3    0.0   0.0    3.0\n",
       "4    0.0   0.0    4.0\n",
       "5    0.0   0.0    0.0\n",
       "6    0.0   0.0    1.0\n",
       "7    0.0   0.0    2.0\n",
       "8    0.0   0.0    3.0\n",
       "9    0.0   0.0    4.0\n",
       "10   0.0   0.0    0.0\n",
       "11   0.0   0.0    1.0\n",
       "12   0.0   1.0    2.0\n",
       "13   0.0   1.0    3.0\n",
       "14   0.0   1.0    4.0\n",
       "15   0.0   1.0    0.0\n",
       "16   0.0   1.0    1.0\n",
       "17   0.0   1.0    2.0\n",
       "18   0.0   1.0    3.0\n",
       "19   0.0   1.0    4.0\n",
       "20   0.0   1.0    0.0\n",
       "21   0.0   1.0    1.0\n",
       "22   0.0   1.0    2.0\n",
       "23   0.0   1.0    3.0\n",
       "24   0.0   0.0    4.0\n",
       "25   1.0   0.0    0.0\n",
       "26   1.0   0.0    1.0\n",
       "27   1.0   0.0    2.0\n",
       "28   1.0   0.0    3.0\n",
       "29   1.0   0.0    4.0\n",
       "30   1.0   0.0    0.0\n",
       "31   1.0   0.0    1.0\n",
       "32   1.0   0.0    2.0\n",
       "33   1.0   0.0    3.0\n",
       "34   1.0   0.0    4.0\n",
       "35   1.0   0.0    0.0\n",
       "36   1.0   1.0    1.0\n",
       "37   1.0   1.0    2.0\n",
       "38   1.0   1.0    3.0\n",
       "39   1.0   1.0    4.0\n",
       "40   1.0   1.0    0.0\n",
       "41   1.0   1.0    1.0\n",
       "42   1.0   1.0    2.0\n",
       "43   1.0   1.0    3.0\n",
       "44   1.0   1.0    4.0\n",
       "45   1.0   1.0    0.0\n",
       "46   1.0   1.0    1.0\n",
       "47   1.0   1.0    2.0\n",
       "48   1.0   1.0    3.0\n",
       "49   1.0   1.0    4.0"
      ]
     },
     "execution_count": 3,
     "metadata": {},
     "output_type": "execute_result"
    }
   ],
   "source": [
    "d.samplem"
   ]
  },
  {
   "cell_type": "markdown",
   "metadata": {
    "Collapsed": "false"
   },
   "source": [
    "### 1.2 perform case/control analysis"
   ]
  },
  {
   "cell_type": "code",
   "execution_count": 3,
   "metadata": {
    "Collapsed": "false"
   },
   "outputs": [
    {
     "name": "stdout",
     "output_type": "stream",
     "text": [
      "qcd NAM not found; computing and saving\n",
      "\ttaking step 1\n",
      "\tmedian kurtosis: 16.40326205754668\n",
      "\t20th percentile R2(t,t-1): nan\n",
      "\ttaking step 2\n",
      "\tmedian kurtosis: 12.75799245750447\n",
      "\t20th percentile R2(t,t-1): 0.7362562285357938\n",
      "\ttaking step 3\n",
      "\tmedian kurtosis: 6.1154849181504485\n",
      "\t20th percentile R2(t,t-1): 0.8633108743363962\n",
      "\ttaking step 4\n",
      "\tmedian kurtosis: 3.177490071480447\n",
      "\t20th percentile R2(t,t-1): 0.9626738569214439\n",
      "stopping after 4 steps\n",
      "throwing out neighborhoods with batch kurtosis >= 6\n",
      "keeping 10000 neighborhoods\n",
      "covariate-adjusted NAM not found; computing and saving\n",
      "\twith ridge 100000.0 median batch kurtosis =  1.981293621817167\n",
      "computing SVD\n",
      "performing association test\n"
     ]
    },
    {
     "name": "stderr",
     "output_type": "stream",
     "text": [
      "/Users/mac/Documents/proj/cna/demo/../src/cna/tools/_association.py:74: UserWarning: global association p-value attained minimal possible value. Consider increasing Nnull\n",
      "  warnings.warn('global association p-value attained minimal possible value. '+\\\n"
     ]
    },
    {
     "name": "stdout",
     "output_type": "stream",
     "text": [
      "computing neighborhood-level FDRs\n",
      "\n",
      "global association p-value: 0.000999000999000999\n"
     ]
    }
   ],
   "source": [
    "# perform association test for case/ctrl status, controlling for sex as a covariate and accounting for potential batch effect\n",
    "res = cna.tl.association(d,                   #dataset\n",
    "            d.samplem.case,                   #sample-level attribute of intest (case/control status)\n",
    "            covs=d.samplem[['male']],       #covariates to control for (in this case just one)\n",
    "            batches=d.samplem.batch)        #batch assignments for each sample so that cna can account for batch effects\n",
    "\n",
    "print('\\nglobal association p-value:', res.p)"
   ]
  },
  {
   "cell_type": "code",
   "execution_count": 13,
   "metadata": {
    "Collapsed": "false"
   },
   "outputs": [
    {
     "data": {
      "image/png": "[encoded data removed]",
      "text/plain": [
       "<Figure size 432x288 with 2 Axes>"
      ]
     },
     "metadata": {
      "needs_background": "light"
     },
     "output_type": "display_data"
    }
   ],
   "source": [
    "# visualize which populations are expanded or depleted among case samples relative to cntrls\n",
    "cna.pl.umap_ncorr(d,                           #dataset\n",
    "            res,                               #cna results object\n",
    "            scatter0={'alpha':0.5, 's':20},    #plotting parameters for neighborhoods that pass FDR\n",
    "            scatter1={'alpha':0.05, 's':20})   #plotting parameters for neighborhoods that don't pass FDR\n",
    "plt.title('p = {:.2e}'.format(res.p))\n",
    "plt.show()"
   ]
  },
  {
   "cell_type": "markdown",
   "metadata": {
    "Collapsed": "false"
   },
   "source": [
    "In the plot above, each cell is colored according to its neighborhood coefficient, *i.e.*, color corresponds to the correlation of abundance in each cell's corresponding neighborhood to case/control status. Neighborhoods that don't pass FDR 5% are shown in gray. As this plot shows, cases have a greater abundance of cells from the left-hand cluster relative to controls."
   ]
  },
  {
   "cell_type": "markdown",
   "metadata": {
    "Collapsed": "false"
   },
   "source": [
    "### 1.3 analyze a more sophisticated phenotype"
   ]
  },
  {
   "cell_type": "markdown",
   "metadata": {
    "Collapsed": "false"
   },
   "source": [
    "Let's next perform an association test for male/female sex rather than case/control status..."
   ]
  },
  {
   "cell_type": "code",
   "execution_count": 17,
   "metadata": {
    "Collapsed": "false"
   },
   "outputs": [
    {
     "name": "stdout",
     "output_type": "stream",
     "text": [
      "covariate-adjusted NAM not found; computing and saving\n",
      "\twith ridge 100000.0 median batch kurtosis =  1.9949274142866247\n",
      "computing SVD\n",
      "performing association test\n"
     ]
    },
    {
     "name": "stderr",
     "output_type": "stream",
     "text": [
      "/Users/mac/Documents/proj/cna/demo/../src/cna/tools/_association.py:74: UserWarning: global association p-value attained minimal possible value. Consider increasing Nnull\n",
      "  warnings.warn('global association p-value attained minimal possible value. '+\\\n"
     ]
    },
    {
     "name": "stdout",
     "output_type": "stream",
     "text": [
      "computing neighborhood-level FDRs\n"
     ]
    },
    {
     "data": {
      "image/png": "[encoded data removed]",
      "text/plain": [
       "<Figure size 432x288 with 2 Axes>"
      ]
     },
     "metadata": {
      "needs_background": "light"
     },
     "output_type": "display_data"
    }
   ],
   "source": [
    "# perform association test for male/female sex\n",
    "# we control for case/control status as a covariate and account for potential batch effects\n",
    "res = cna.tl.association(d, d.samplem.male, covs=d.samplem[['case']], batches=d.samplem.batch)\n",
    "\n",
    "# visualize the results\n",
    "cna.pl.umap_ncorr(d, res,\n",
    "            scatter0={'alpha':0.5, 's':20},\n",
    "            scatter1={'alpha':0.05, 's':20})\n",
    "plt.title('p = {:.2e}'.format(res.p))\n",
    "plt.show()"
   ]
  },
  {
   "cell_type": "markdown",
   "metadata": {
    "Collapsed": "false"
   },
   "source": [
    "It's now clear that a sub-population of the left-hand cluster is more abundant in males. CNA automatically picked up on this without needing to be given a resolution parameter.\n",
    "\n",
    "Note that it looks like some cells in the right-hand cluster pass our FDR threshold of 5%. However, these cells comprise only ~6% of the cells that pass the threshold and so are likely false discoveries."
   ]
  },
  {
   "cell_type": "markdown",
   "metadata": {
    "Collapsed": "false"
   },
   "source": [
    "### 1.4 relate results to clusters"
   ]
  },
  {
   "cell_type": "markdown",
   "metadata": {
    "Collapsed": "false"
   },
   "source": [
    "If this dataset had been clustered, two clusters would likely have been defined."
   ]
  },
  {
   "cell_type": "code",
   "execution_count": 18,
   "metadata": {
    "Collapsed": "false"
   },
   "outputs": [
    {
     "data": {
      "image/png": "[encoded data removed]",
      "text/plain": [
       "<Figure size 432x288 with 1 Axes>"
      ]
     },
     "metadata": {
      "needs_background": "light"
     },
     "output_type": "display_data"
    }
   ],
   "source": [
    "sc.tl.leiden(d, resolution = 0.1)\n",
    "plt.scatter(*d.obsm['X_umap'][d.obs.leiden=='0'].T, c='orangered', label='Cluster 1')\n",
    "plt.scatter(*d.obsm['X_umap'][d.obs.leiden=='1'].T, c='purple', label='Cluster 0')\n",
    "plt.legend(); plt.axis('off')\n",
    "plt.show()"
   ]
  },
  {
   "cell_type": "markdown",
   "metadata": {
    "Collapsed": "false"
   },
   "source": [
    "We can examine within-cluster heterogeneity characterized by CNA by visualizing the distribution of neighborhood coefficients within each cluster."
   ]
  },
  {
   "cell_type": "code",
   "execution_count": 20,
   "metadata": {
    "Collapsed": "false"
   },
   "outputs": [
    {
     "data": {
      "image/png": "[encoded data removed]",
      "text/plain": [
       "<Figure size 432x288 with 1 Axes>"
      ]
     },
     "metadata": {
      "needs_background": "light"
     },
     "output_type": "display_data"
    }
   ],
   "source": [
    "ax = cna.pl.violinplot(d,     # dataset\n",
    "                  res,        # CNA results object\n",
    "                  'leiden')   # name of the column of obs that contains the clustering\n",
    "ax.set_title('Within-Cluster Heterogeneity')\n",
    "ax.set_yticks([-0.8, -0.4, 0, 0.4, 0.8])\n",
    "ax.set_xlabel('Cluster')\n",
    "plt.show()"
   ]
  },
  {
   "cell_type": "markdown",
   "metadata": {
    "Collapsed": "false"
   },
   "source": [
    "### 1.5 relate results to genes"
   ]
  },
  {
   "cell_type": "markdown",
   "metadata": {
    "Collapsed": "false"
   },
   "source": [
    "To characterize the populations driving the association, we can examine per-gene correlations to neighborhood coefficient. These per-gene values may be informative on their own, or they could be further analyzed using techniques like gene set enrichment analysis."
   ]
  },
  {
   "cell_type": "code",
   "execution_count": 22,
   "metadata": {},
   "outputs": [
    {
     "data": {
      "text/plain": [
       "(1, 10000)"
      ]
     },
     "execution_count": 22,
     "metadata": {},
     "output_type": "execute_result"
    }
   ],
   "source": [
    "res.ncorrs.reshape(1,-1).shape"
   ]
  },
  {
   "cell_type": "code",
   "execution_count": 31,
   "metadata": {},
   "outputs": [
    {
     "data": {
      "text/plain": [
       "(10000, 1)"
      ]
     },
     "execution_count": 31,
     "metadata": {},
     "output_type": "execute_result"
    }
   ],
   "source": [
    "res.ncorrs.reshape(-1, 1).shape"
   ]
  },
  {
   "cell_type": "code",
   "execution_count": 37,
   "metadata": {
    "Collapsed": "false"
   },
   "outputs": [],
   "source": [
    "# compute correlation between neighborhood coefficients and genes\n",
    "d.var['corr_case'] = np.corrcoef(res.ncorrs.reshape(-1, 1), d.X, rowvar=False)[0,1:]"
   ]
  },
  {
   "cell_type": "code",
   "execution_count": 38,
   "metadata": {
    "Collapsed": "false"
   },
   "outputs": [
    {
     "data": {
      "text/html": [
       "<div>\n",
       "<style scoped>\n",
       "    .dataframe tbody tr th:only-of-type {\n",
       "        vertical-align: middle;\n",
       "    }\n",
       "\n",
       "    .dataframe tbody tr th {\n",
       "        vertical-align: top;\n",
       "    }\n",
       "\n",
       "    .dataframe thead th {\n",
       "        text-align: right;\n",
       "    }\n",
       "</style>\n",
       "<table border=\"1\" class=\"dataframe\">\n",
       "  <thead>\n",
       "    <tr style=\"text-align: right;\">\n",
       "      <th></th>\n",
       "      <th>corr_case</th>\n",
       "    </tr>\n",
       "    <tr>\n",
       "      <th>gene</th>\n",
       "      <th></th>\n",
       "    </tr>\n",
       "  </thead>\n",
       "  <tbody>\n",
       "    <tr>\n",
       "      <th>gene_10</th>\n",
       "      <td>0.186798</td>\n",
       "    </tr>\n",
       "    <tr>\n",
       "      <th>gene_9</th>\n",
       "      <td>0.181042</td>\n",
       "    </tr>\n",
       "    <tr>\n",
       "      <th>gene_4</th>\n",
       "      <td>0.179933</td>\n",
       "    </tr>\n",
       "    <tr>\n",
       "      <th>gene_11</th>\n",
       "      <td>0.179853</td>\n",
       "    </tr>\n",
       "    <tr>\n",
       "      <th>gene_1</th>\n",
       "      <td>0.173886</td>\n",
       "    </tr>\n",
       "  </tbody>\n",
       "</table>\n",
       "</div>"
      ],
      "text/plain": [
       "         corr_case\n",
       "gene              \n",
       "gene_10   0.186798\n",
       "gene_9    0.181042\n",
       "gene_4    0.179933\n",
       "gene_11   0.179853\n",
       "gene_1    0.173886"
      ]
     },
     "execution_count": 38,
     "metadata": {},
     "output_type": "execute_result"
    }
   ],
   "source": [
    "# view top 5 most strongly correlated genes\n",
    "d.var.sort_values('corr_case', ascending=False).head()"
   ]
  },
  {
   "cell_type": "code",
   "execution_count": 39,
   "metadata": {
    "Collapsed": "false"
   },
   "outputs": [
    {
     "data": {
      "text/html": [
       "<div>\n",
       "<style scoped>\n",
       "    .dataframe tbody tr th:only-of-type {\n",
       "        vertical-align: middle;\n",
       "    }\n",
       "\n",
       "    .dataframe tbody tr th {\n",
       "        vertical-align: top;\n",
       "    }\n",
       "\n",
       "    .dataframe thead th {\n",
       "        text-align: right;\n",
       "    }\n",
       "</style>\n",
       "<table border=\"1\" class=\"dataframe\">\n",
       "  <thead>\n",
       "    <tr style=\"text-align: right;\">\n",
       "      <th></th>\n",
       "      <th>corr_case</th>\n",
       "    </tr>\n",
       "    <tr>\n",
       "      <th>gene</th>\n",
       "      <th></th>\n",
       "    </tr>\n",
       "  </thead>\n",
       "  <tbody>\n",
       "    <tr>\n",
       "      <th>gene_20</th>\n",
       "      <td>-0.100297</td>\n",
       "    </tr>\n",
       "    <tr>\n",
       "      <th>gene_21</th>\n",
       "      <td>-0.097420</td>\n",
       "    </tr>\n",
       "    <tr>\n",
       "      <th>gene_22</th>\n",
       "      <td>-0.089048</td>\n",
       "    </tr>\n",
       "    <tr>\n",
       "      <th>gene_14</th>\n",
       "      <td>-0.085773</td>\n",
       "    </tr>\n",
       "    <tr>\n",
       "      <th>gene_19</th>\n",
       "      <td>-0.079371</td>\n",
       "    </tr>\n",
       "  </tbody>\n",
       "</table>\n",
       "</div>"
      ],
      "text/plain": [
       "         corr_case\n",
       "gene              \n",
       "gene_20  -0.100297\n",
       "gene_21  -0.097420\n",
       "gene_22  -0.089048\n",
       "gene_14  -0.085773\n",
       "gene_19  -0.079371"
      ]
     },
     "execution_count": 39,
     "metadata": {},
     "output_type": "execute_result"
    }
   ],
   "source": [
    "# view top 5 most negatively correlated genes\n",
    "d.var.sort_values('corr_case', ascending=True).head()"
   ]
  },
  {
   "cell_type": "markdown",
   "metadata": {
    "Collapsed": "false"
   },
   "source": [
    "## 2. data formats and preprocessing <a class=\"anchor\" id=\"second-section\"></a>"
   ]
  },
  {
   "cell_type": "markdown",
   "metadata": {
    "Collapsed": "false"
   },
   "source": [
    "Let's now understand better the data format used by `cna` and what pre-processing is necessary to run `cna`."
   ]
  },
  {
   "cell_type": "markdown",
   "metadata": {
    "Collapsed": "false"
   },
   "source": [
    "### 2.1 the `MultiAnnData` object"
   ]
  },
  {
   "cell_type": "markdown",
   "metadata": {
    "Collapsed": "false"
   },
   "source": [
    "The data format used by `cna` a python object called `MultiAnnData`, which is a derivative of the common `AnnData` object used by `scanpy` that is modified to explicitly accommodate multi-sample single-cell datasets by including sample-level metadata."
   ]
  },
  {
   "cell_type": "markdown",
   "metadata": {
    "Collapsed": "false"
   },
   "source": [
    "There are three ways to create `MultiAnnData` objects. Reading from `h5ad` format using `cna.read`, conversion from an `AnnData` object, and manual construction."
   ]
  },
  {
   "cell_type": "markdown",
   "metadata": {
    "Collapsed": "false"
   },
   "source": [
    "#### 2.1.1 read a `MultiAnnData` object from a file"
   ]
  },
  {
   "cell_type": "code",
   "execution_count": 40,
   "metadata": {
    "Collapsed": "false"
   },
   "outputs": [
    {
     "name": "stderr",
     "output_type": "stream",
     "text": [
      "/usr/local/anaconda3/envs/cna/lib/python3.8/site-packages/anndata/compat/__init__.py:232: FutureWarning: Moving element from .uns['neighbors']['distances'] to .obsp['distances'].\n",
      "\n",
      "This is where adjacency matrices should go now.\n",
      "  warn(\n",
      "/usr/local/anaconda3/envs/cna/lib/python3.8/site-packages/anndata/compat/__init__.py:232: FutureWarning: Moving element from .uns['neighbors']['connectivities'] to .obsp['connectivities'].\n",
      "\n",
      "This is where adjacency matrices should go now.\n",
      "  warn(\n"
     ]
    }
   ],
   "source": [
    "d = cna.read('data_multianndata.h5ad')"
   ]
  },
  {
   "cell_type": "markdown",
   "metadata": {
    "Collapsed": "false"
   },
   "source": [
    "Like an `AnnData` object, the `MultiAnnData` object `d` stores raw data in `.X`, per-cell data in `.obs`, and per-marker data in `.var`.\n",
    "\n",
    "However, `d` additional stores per-sample data in `d.samplem`. Let's take a look."
   ]
  },
  {
   "cell_type": "code",
   "execution_count": 12,
   "metadata": {
    "Collapsed": "false"
   },
   "outputs": [
    {
     "data": {
      "text/html": [
       "<div>\n",
       "<style scoped>\n",
       "    .dataframe tbody tr th:only-of-type {\n",
       "        vertical-align: middle;\n",
       "    }\n",
       "\n",
       "    .dataframe tbody tr th {\n",
       "        vertical-align: top;\n",
       "    }\n",
       "\n",
       "    .dataframe thead th {\n",
       "        text-align: right;\n",
       "    }\n",
       "</style>\n",
       "<table border=\"1\" class=\"dataframe\">\n",
       "  <thead>\n",
       "    <tr style=\"text-align: right;\">\n",
       "      <th></th>\n",
       "      <th>case</th>\n",
       "      <th>male</th>\n",
       "      <th>batch</th>\n",
       "    </tr>\n",
       "    <tr>\n",
       "      <th>id</th>\n",
       "      <th></th>\n",
       "      <th></th>\n",
       "      <th></th>\n",
       "    </tr>\n",
       "  </thead>\n",
       "  <tbody>\n",
       "    <tr>\n",
       "      <th>0</th>\n",
       "      <td>0</td>\n",
       "      <td>0</td>\n",
       "      <td>0</td>\n",
       "    </tr>\n",
       "    <tr>\n",
       "      <th>1</th>\n",
       "      <td>0</td>\n",
       "      <td>0</td>\n",
       "      <td>1</td>\n",
       "    </tr>\n",
       "    <tr>\n",
       "      <th>2</th>\n",
       "      <td>0</td>\n",
       "      <td>0</td>\n",
       "      <td>2</td>\n",
       "    </tr>\n",
       "    <tr>\n",
       "      <th>3</th>\n",
       "      <td>0</td>\n",
       "      <td>0</td>\n",
       "      <td>3</td>\n",
       "    </tr>\n",
       "    <tr>\n",
       "      <th>4</th>\n",
       "      <td>0</td>\n",
       "      <td>0</td>\n",
       "      <td>4</td>\n",
       "    </tr>\n",
       "  </tbody>\n",
       "</table>\n",
       "</div>"
      ],
      "text/plain": [
       "    case  male  batch\n",
       "id                   \n",
       "0      0     0      0\n",
       "1      0     0      1\n",
       "2      0     0      2\n",
       "3      0     0      3\n",
       "4      0     0      4"
      ]
     },
     "execution_count": 12,
     "metadata": {},
     "output_type": "execute_result"
    }
   ],
   "source": [
    "d.samplem.head()"
   ]
  },
  {
   "cell_type": "markdown",
   "metadata": {
    "Collapsed": "false"
   },
   "source": [
    "#### 2.1.2 build a `MultiAnnData` object from an `AnnData` object"
   ]
  },
  {
   "cell_type": "markdown",
   "metadata": {
    "Collapsed": "false"
   },
   "source": [
    "The second way to create a `MultiAnnData` object is to create one from an `AnnData` object. In this case, you need to explicitly supply the sample-level metadata for `.samplem`. The easiest way to do this is typically to take this information from `.obs` if it is already stored there, as is often the case in single-cell datasets. Another option is to explicitly set `.samplem` to a `DataFrame` that's been manually created.\n",
    "\n",
    "**Either way, `cna` needs to know which column of `.obs` contains the sample id of each cell. `cna` assumes that this columns is named `id`, but this behavior can be changed by passing `sampleid='someothername'` into the `MultiAnnData` function. The name of this column also needs to match the name of the index of `.samplem`.**"
   ]
  },
  {
   "cell_type": "code",
   "execution_count": 13,
   "metadata": {
    "Collapsed": "false"
   },
   "outputs": [
    {
     "name": "stdout",
     "output_type": "stream",
     "text": [
      "d.samplem has 0 columns\n",
      "now d.samplem has 3 columns\n"
     ]
    },
    {
     "data": {
      "text/html": [
       "<div>\n",
       "<style scoped>\n",
       "    .dataframe tbody tr th:only-of-type {\n",
       "        vertical-align: middle;\n",
       "    }\n",
       "\n",
       "    .dataframe tbody tr th {\n",
       "        vertical-align: top;\n",
       "    }\n",
       "\n",
       "    .dataframe thead th {\n",
       "        text-align: right;\n",
       "    }\n",
       "</style>\n",
       "<table border=\"1\" class=\"dataframe\">\n",
       "  <thead>\n",
       "    <tr style=\"text-align: right;\">\n",
       "      <th></th>\n",
       "      <th>case</th>\n",
       "      <th>male</th>\n",
       "      <th>batch</th>\n",
       "    </tr>\n",
       "    <tr>\n",
       "      <th>id</th>\n",
       "      <th></th>\n",
       "      <th></th>\n",
       "      <th></th>\n",
       "    </tr>\n",
       "  </thead>\n",
       "  <tbody>\n",
       "    <tr>\n",
       "      <th>0</th>\n",
       "      <td>0</td>\n",
       "      <td>0</td>\n",
       "      <td>0</td>\n",
       "    </tr>\n",
       "    <tr>\n",
       "      <th>1</th>\n",
       "      <td>0</td>\n",
       "      <td>0</td>\n",
       "      <td>1</td>\n",
       "    </tr>\n",
       "    <tr>\n",
       "      <th>2</th>\n",
       "      <td>0</td>\n",
       "      <td>0</td>\n",
       "      <td>2</td>\n",
       "    </tr>\n",
       "    <tr>\n",
       "      <th>3</th>\n",
       "      <td>0</td>\n",
       "      <td>0</td>\n",
       "      <td>3</td>\n",
       "    </tr>\n",
       "    <tr>\n",
       "      <th>4</th>\n",
       "      <td>0</td>\n",
       "      <td>0</td>\n",
       "      <td>4</td>\n",
       "    </tr>\n",
       "  </tbody>\n",
       "</table>\n",
       "</div>"
      ],
      "text/plain": [
       "    case  male  batch\n",
       "id                   \n",
       "0      0     0      0\n",
       "1      0     0      1\n",
       "2      0     0      2\n",
       "3      0     0      3\n",
       "4      0     0      4"
      ]
     },
     "execution_count": 13,
     "metadata": {},
     "output_type": "execute_result"
    }
   ],
   "source": [
    "# read in AnnData object from h5ad file and convert it to MultiAnnData\n",
    "d = ad.read_h5ad('data_anndata.h5ad')\n",
    "d = MultiAnnData(d, sampleid='id') # the default value of sampleid is 'id', here we just repeat it for clarity\n",
    "print('d.samplem has', len(d.samplem.columns), 'columns')\n",
    "\n",
    "# Since our metadata are stored per-cell, we need to copy the information that is actually per-sampl\n",
    "# (case status, batch and covariates) to the per-sample metadata DataFrame `d.samplem`\n",
    "d.obs_to_sample(['case','male','batch'])\n",
    "print('now d.samplem has', len(d.samplem.columns), 'columns')\n",
    "d.samplem.head()"
   ]
  },
  {
   "cell_type": "markdown",
   "metadata": {
    "Collapsed": "false"
   },
   "source": [
    "#### 2.1.3 build a `MultiAnnData` object manually"
   ]
  },
  {
   "cell_type": "markdown",
   "metadata": {
    "Collapsed": "false"
   },
   "source": [
    "Building a `MultiAnnData` object manually works just like building an `AnnData` object manually. The main difference is that you also need to tell `cna` which column of `.obs` contains the sample id of each cell. **`cna` will assume that this column is named `id` unless it is told otherwise.**"
   ]
  },
  {
   "cell_type": "code",
   "execution_count": 14,
   "metadata": {
    "Collapsed": "false"
   },
   "outputs": [],
   "source": [
    "import multianndata as mad\n",
    "\n",
    "# let's pretend we had X, obs, and var as standalone objects...\n",
    "X, obs, var = d.X, d.obs, d.var\n",
    "\n",
    "# we can create a MultiAnnData object from these\n",
    "d = mad.MultiAnnData(X=X,            # expression matrix\n",
    "                     obs=obs,        # cell metadata matrix\n",
    "                     sampleid='id')  # name of column of cell_meta that contains sample id for each cell\n",
    "                                     #    default value is 'id' but we repeat here for clarity\n",
    "# convert per-cell metadata into per-sample metadata as before\n",
    "d.obs_to_sample(['batch', 'case', 'male'])"
   ]
  },
  {
   "cell_type": "markdown",
   "metadata": {
    "Collapsed": "false"
   },
   "source": [
    "As above, if instead our raw metadata table already contained information per-sample, we could have created `d.samplem` directly."
   ]
  },
  {
   "cell_type": "markdown",
   "metadata": {
    "Collapsed": "false"
   },
   "source": [
    "### 2.2 pre-processing"
   ]
  },
  {
   "cell_type": "markdown",
   "metadata": {
    "Collapsed": "false"
   },
   "source": [
    "The main pre-processing step that is required before running `cna` is to compute a cell-cell similarity graph. Here we'll use `scanpy` to compute the standard UMAP similarity graph. (In principle, any graph can be computed here.)"
   ]
  },
  {
   "cell_type": "code",
   "execution_count": 15,
   "metadata": {
    "Collapsed": "false"
   },
   "outputs": [],
   "source": [
    "%%capture --no-stdout\n",
    "\n",
    "# compute the UMAP cell-cell similarity graph\n",
    "sc.pp.neighbors(d)\n",
    "\n",
    "# compute UMAP coordinates for plotting\n",
    "sc.tl.umap(d)\n",
    "\n",
    "# the following line would save the pre-processed data as a h5ad file\n",
    "# d.write('test.h5ad')"
   ]
  },
  {
   "cell_type": "markdown",
   "metadata": {
    "Collapsed": "false"
   },
   "source": [
    "## 3. additional `cna` features"
   ]
  },
  {
   "cell_type": "markdown",
   "metadata": {
    "Collapsed": "false"
   },
   "source": [
    "### 3.1 additional results produced by the `cna` `association` function <a class=\"anchor\" id=\"third-section\"></a>"
   ]
  },
  {
   "cell_type": "markdown",
   "metadata": {
    "Collapsed": "false"
   },
   "source": [
    "Let's re-do the `cna` analysis for case status and go over the results in more detail"
   ]
  },
  {
   "cell_type": "code",
   "execution_count": 16,
   "metadata": {
    "Collapsed": "false"
   },
   "outputs": [
    {
     "name": "stdout",
     "output_type": "stream",
     "text": [
      "qcd NAM not found; computing and saving\n",
      "\ttaking step 1\n",
      "\tmedian kurtosis: 16.40326205754668\n",
      "\ttaking step 2\n",
      "\tmedian kurtosis: 12.75799245750447\n",
      "\ttaking step 3\n",
      "\tmedian kurtosis: 6.1154849181504485\n",
      "\ttaking step 4\n",
      "\tmedian kurtosis: 3.177490071480447\n",
      "stopping after 4 steps\n",
      "throwing out neighborhoods with batch kurtosis >= 6\n",
      "keeping 10000 neighborhoods\n",
      "covariate-adjusted NAM not found; computing and saving\n",
      "\twith ridge 100000.0 median batch kurtosis =  1.981293621817167\n",
      "computing SVD\n",
      "performing association test\n"
     ]
    },
    {
     "name": "stderr",
     "output_type": "stream",
     "text": [
      "/data/srlab1/yakir/py/cna/cna/tools/_association.py:74: UserWarning: global association p-value attained minimal possible value. Consider increasing Nnull\n",
      "  warnings.warn('global association p-value attained minimal possible value. '+\\\n"
     ]
    },
    {
     "name": "stdout",
     "output_type": "stream",
     "text": [
      "computing neighborhood-level FDRs\n"
     ]
    }
   ],
   "source": [
    "d = cna.read('data_multianndata.h5ad')\n",
    "res = cna.tl.association(d, d.samplem.case, covs=d.samplem[['male']], batches=d.samplem.batch)"
   ]
  },
  {
   "cell_type": "markdown",
   "metadata": {
    "Collapsed": "false"
   },
   "source": [
    "The `res` object returned by the association function contains the following fields:\n",
    "1. `p` is the global p-value for association\n",
    "1. `k` is the number of NAM PCs used for the association test (automatically selected in a data-dependent way)\n",
    "1. `ncorrs` is the vector of neighborhood coefficients\n",
    "1. `fdr_10p_t` and `fdr_5p_t` contain the thresholds on `np.abs(ncorrs)` needed to provide FDRs of 10% and 5% respectively\n",
    "1. `fdrs` contains information on neighborhood-level FDRs at other thresholds\n",
    "1. `kept` is a boolean vector that specifies which cells passed qc. So, e.g., `ncorrs` is of length `kept.sum()`.\n",
    "1. `r2` is the global prediction r-squared achieved by the model\n",
    "1. `r2_perpc` is the prediction r-squared achieved by each pc on its own\n",
    "1. `beta` is the coefficient vector, one coefficient per PC\n",
    "1. `yresid` and `yresid_hat` are the phenotype and the predicted phenotype, both with covariates and batch residualized out"
   ]
  },
  {
   "cell_type": "markdown",
   "metadata": {
    "Collapsed": "false"
   },
   "source": [
    "The kurtosis numbers in the output above say how 'outlier-y' the neighborhood abundances are at each step in the diffusion that `cna` does to define its neighborhoods. The algorithm stops when these numbers stop going down quickly. But if you see that `cna` stops when kurtosis is still very high (like above 10), that's likely a sign that the data aren't qc'd properly or are otherwise unsuitable."
   ]
  },
  {
   "cell_type": "markdown",
   "metadata": {
    "Collapsed": "false"
   },
   "source": [
    "### 3.2 working directly with the NAM and NAM PCs <a class=\"anchor\" id=\"fourth-section\"></a>"
   ]
  },
  {
   "cell_type": "markdown",
   "metadata": {
    "Collapsed": "false"
   },
   "source": [
    "The association function above also automatically computes the NAM and its SVD as a prerequisite to the association testing. These can be found in the following objects\n",
    "1. `d.uns['NAM.T']` contains the transpose of the NAM (neighborhoods by samples)\n",
    "1. `d.uns['NAM_sampleXpc']` contains the sample loadings of the principal components of the NAM\n",
    "1. `d.uns['NAM_nbhdXpc']` contains the neighborhood loadings of the principal components of the NAM\n",
    "1. `d.uns['NAM_svs']` contains the squared singular values of the NAM\n",
    "\n",
    "These objects can also be computed independent of any association test using the function `cna.tl.nam`, demonstrated below"
   ]
  },
  {
   "cell_type": "code",
   "execution_count": 17,
   "metadata": {
    "Collapsed": "false"
   },
   "outputs": [
    {
     "name": "stdout",
     "output_type": "stream",
     "text": [
      "covariate-adjusted NAM not found; computing and saving\n",
      "\twith ridge 100000.0 median batch kurtosis =  1.9949274142866247\n",
      "computing SVD\n"
     ]
    }
   ],
   "source": [
    "cna.tl.nam(d, batches=d.samplem.batch) #note: this NAM is being computed *without* adjusting for sex or case/ctrl status"
   ]
  },
  {
   "cell_type": "markdown",
   "metadata": {
    "Collapsed": "false"
   },
   "source": [
    "Let's visualize a few of the results..."
   ]
  },
  {
   "cell_type": "markdown",
   "metadata": {
    "Collapsed": "false"
   },
   "source": [
    "#### 3.2.1 neighborhood loadings of NAM PCs"
   ]
  },
  {
   "cell_type": "markdown",
   "metadata": {
    "Collapsed": "false"
   },
   "source": [
    "First, we can plot the neighborhood loadings of each NAM PC to see which abundance patterns they capture"
   ]
  },
  {
   "cell_type": "code",
   "execution_count": 18,
   "metadata": {
    "Collapsed": "false"
   },
   "outputs": [
    {
     "data": {
      "image/png": "[encoded data removed]",
      "text/plain": [
       "<Figure size 432x288 with 2 Axes>"
      ]
     },
     "metadata": {
      "needs_background": "light"
     },
     "output_type": "display_data"
    },
    {
     "data": {
      "image/png": "[encoded data removed]",
      "text/plain": [
       "<Figure size 432x288 with 2 Axes>"
      ]
     },
     "metadata": {
      "needs_background": "light"
     },
     "output_type": "display_data"
    }
   ],
   "source": [
    "#plot neighborhood loadings of NAM PC 1\n",
    "d.obs['NAMPC1'] = np.nan\n",
    "d.obs.loc[d.uns['keptcells'], 'NAMPC1'] = d.uns['NAM_nbhdXpc'].PC1\n",
    "sc.pl.umap(d, color='NAMPC1', cmap='seismic', title='NAM PC1 neighborhood loadings')\n",
    "plt.show()\n",
    "\n",
    "#plot neighborhood loadings of NAM PC 2\n",
    "d.obs['NAMPC2'] = np.nan\n",
    "d.obs.loc[d.uns['keptcells'], 'NAMPC2'] = d.uns['NAM_nbhdXpc'].PC2\n",
    "sc.pl.umap(d, color='NAMPC2', cmap='seismic', title='NAM PC2 neighborhood loadings')\n",
    "plt.show()"
   ]
  },
  {
   "cell_type": "markdown",
   "metadata": {
    "Collapsed": "false"
   },
   "source": [
    "We can see here that NAM PC 1 primarily captures the extent to which a sample has cells in the left-hand cluster vs the right-hand cluster, and that NAM PC 2 primarily additionall captures the extent to which a sample has cells in the top of the left-hand cluster vs the bottom of the left-hand cluster."
   ]
  },
  {
   "cell_type": "markdown",
   "metadata": {
    "Collapsed": "false"
   },
   "source": [
    "#### 3.2.2 sample loadings of NAM PCs"
   ]
  },
  {
   "cell_type": "markdown",
   "metadata": {
    "Collapsed": "false"
   },
   "source": [
    "We can also examine the sample loadings of each NAM PC to explicitly see which samples have high and low values of each NAM PC. Below we'll examine how this relates to the sample-level metadata in our toy dataset."
   ]
  },
  {
   "cell_type": "code",
   "execution_count": 19,
   "metadata": {
    "Collapsed": "false"
   },
   "outputs": [
    {
     "data": {
      "image/png": "[encoded data removed]",
      "text/plain": [
       "<Figure size 432x288 with 1 Axes>"
      ]
     },
     "metadata": {
      "needs_background": "light"
     },
     "output_type": "display_data"
    },
    {
     "data": {
      "image/png": "[encoded data removed]",
      "text/plain": [
       "<Figure size 432x288 with 1 Axes>"
      ]
     },
     "metadata": {
      "needs_background": "light"
     },
     "output_type": "display_data"
    }
   ],
   "source": [
    "def sample_loading_plot_by_binary_pheno(pheno, case_label, ctrl_label): #assumes pheno is binary\n",
    "    pcs = d.uns['NAM_sampleXpc']\n",
    "    cases = pheno.astype(np.bool)\n",
    "    plt.scatter(pcs.loc[cases].PC1, pcs.loc[cases].PC2, s=40, alpha=0.8, label=case_label)\n",
    "    plt.scatter(pcs.loc[~cases].PC1, pcs.loc[~cases].PC2, s=40, alpha=0.8, label=ctrl_label)\n",
    "    plt.legend()\n",
    "    plt.xlabel('NAM PC1')\n",
    "    plt.ylabel('NAM PC2')\n",
    "\n",
    "#plot sample loadings of NAM PC1 versus NAM PC2, colored by case/control status\n",
    "sample_loading_plot_by_binary_pheno(d.samplem.case, 'case', 'ctrl')\n",
    "plt.title('NAM PC1 vs NAM PC2, colored by case/control status')\n",
    "plt.show()\n",
    "\n",
    "#plot sample loadings of NAM PC1 versus NAM PC2, colored by male/female sex\n",
    "sample_loading_plot_by_binary_pheno(d.samplem.male, 'male', 'female')\n",
    "plt.title('NAM PC1 vs NAM PC2, colored by male/female sex')\n",
    "plt.show()"
   ]
  },
  {
   "cell_type": "markdown",
   "metadata": {
    "Collapsed": "false"
   },
   "source": [
    "You can see in these plots that NAM PC 1 roughly corresponds to case/control status and NAM PC1 roughly corresponds to sex."
   ]
  },
  {
   "cell_type": "markdown",
   "metadata": {
    "Collapsed": "false"
   },
   "source": [
    "#### 3.2.3 variance explained by NAM PCs"
   ]
  },
  {
   "cell_type": "markdown",
   "metadata": {
    "Collapsed": "false"
   },
   "source": [
    "Like ordinary PCs, each NAM PC also comes with a quantification of how much dataset-wide variance it explains. These are stored in the `NAM_svs` field. Let's visualize them in the traditional way below."
   ]
  },
  {
   "cell_type": "code",
   "execution_count": 8,
   "metadata": {
    "Collapsed": "false"
   },
   "outputs": [
    {
     "data": {
      "image/png": "[encoded data removed]",
      "text/plain": [
       "<Figure size 432x288 with 1 Axes>"
      ]
     },
     "metadata": {
      "needs_background": "light"
     },
     "output_type": "display_data"
    }
   ],
   "source": [
    "# plot variance explained by each NAM PC\n",
    "plt.plot(d.uns['NAM_svs']/d.uns['NAM_svs'].sum(), marker='o', linestyle='--')\n",
    "plt.xlabel('NAM PC')\n",
    "plt.ylabel('fraction of variance explained')\n",
    "plt.show()"
   ]
  },
  {
   "cell_type": "markdown",
   "metadata": {
    "Collapsed": "false"
   },
   "source": [
    "As this plot demonstrates, PC1 explains ~40% of the variance in the dataset, PC2 explains ~12%, and the rest really don't contribute much."
   ]
  }
 ],
 "metadata": {
  "kernelspec": {
   "display_name": "Python 3 (ipykernel)",
   "language": "python",
   "name": "python3"
  },
  "language_info": {
   "codemirror_mode": {
    "name": "ipython",
    "version": 3
   },
   "file_extension": ".py",
   "mimetype": "text/x-python",
   "name": "python",
   "nbconvert_exporter": "python",
   "pygments_lexer": "ipython3",
   "version": "3.8.13"
  }
 },
 "nbformat": 4,
 "nbformat_minor": 4
}
